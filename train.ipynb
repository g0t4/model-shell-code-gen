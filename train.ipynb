{
 "cells": [
  {
   "cell_type": "code",
   "execution_count": null,
   "metadata": {},
   "outputs": [],
   "source": [
    "import os\n",
    "from datasets import load_dataset\n",
    "from pprint import pprint\n",
    "\n",
    "if not os.environ.get(\"HF_TOKEN\"):\n",
    "    # FYI export HF_TOKEN=$(pbpaste)\n",
    "    raise ValueError(\"You need to set HF_TOKEN environment variable. Get one from huggingface.co\")\n",
    "\n",
    "# Load the shell/bash subset\n",
    "#   FYI:   https://huggingface.co/datasets/bigcode/the-stack/tree/main/data/shell (FYI gated, must give email and approve)\n",
    "full_dataset = load_dataset( \"bigcode/the-stack\", split=\"train\", data_dir=\"data/shell\")  # , lang=[\"bash\"])\n",
    "# data_dir data/shell has 11 files, not bad size (about 4GB IIEC)\n",
    "\n",
    "# Save locally in diff format if needed, I am going to stick with parquet\n",
    "# full_dataset.to_csv(\"shell_scripts.csv\")\n",
    "# print(full_dataset.column_names)\n",
    "subset = full_dataset.select(range(1))\n",
    "print(\"shape\", subset.shape)\n",
    "\n",
    "original_columns = subset.column_names"
   ]
  },
  {
   "cell_type": "code",
   "execution_count": 2,
   "metadata": {},
   "outputs": [],
   "source": [
    "# build corpus\n",
    "if not os.path.exists(\"tmp\"):\n",
    "    os.makedirs(\"tmp\")\n",
    "\n",
    "corpus_file = \"tmp/shell_scripts_corpus.sh\"\n",
    "if not os.path.exists(corpus_file):\n",
    "    with open(corpus_file, \"w\") as f:\n",
    "        for example in subset[\"content\"]:  # Adjust \"content\" to match your dataset key\n",
    "            f.write(example + \"\\n\")"
   ]
  },
  {
   "cell_type": "code",
   "execution_count": null,
   "metadata": {},
   "outputs": [],
   "source": [
    "from tokenizers import ByteLevelBPETokenizer\n",
    "\n",
    "tokenizer_path = \"tmp/trained-tokenizer\"\n",
    "if not os.path.exists(tokenizer_path):\n",
    "    os.makedirs(tokenizer_path)\n",
    "\n",
    "# Train the tokenizer\n",
    "if not os.path.exists(tokenizer_path + \"/vocab.json\"):\n",
    "    tokenizer = ByteLevelBPETokenizer()\n",
    "    tokenizer.train(files=[corpus_file], vocab_size=8000, min_frequency=2)  # PRN adjust vocab_size/min_frequency?\n",
    "    tokenizer.save_model(tokenizer_path)\n",
    "\n",
    "# load the tokenizer\n",
    "tokenizer = ByteLevelBPETokenizer(tokenizer_path + \"/vocab.json\", tokenizer_path + \"/merges.txt\")\n",
    "\n",
    "# tokenize (FYI .map is immutable, a new dataset is returned with the added column)\n",
    "print(\"before tokenize dataset size: \", subset.shape)\n",
    "subset = subset.map(lambda x: {\"tokens\": tokenizer.encode(x[\"content\"]).ids})\n",
    "print(\"after tokenize dataset size: \", subset.shape)\n",
    "print()\n",
    "print(subset[\"tokens\"][0])  # Example tokenized output\n",
    "print()\n",
    "#\n",
    "# # VIEW SOME TOKENS:\n",
    "# # show each token for first 10:\n",
    "# for i in range(100):\n",
    "#     print(subset_tokenizd[\"tokens\"][0][i], tokenizer.decode([subset_tokenizd[\"tokens\"][0][i]]))\n"
   ]
  },
  {
   "cell_type": "code",
   "execution_count": null,
   "metadata": {},
   "outputs": [],
   "source": [
    "def create_training_pairs(tokens, seq_len):\n",
    "    # Split into sequences of length seq_len + 1\n",
    "    sequences = [tokens[i:i + seq_len + 1] for i in range(len(tokens) - seq_len)]\n",
    "    return sequences\n",
    "\n",
    "seq_len = 50\n",
    "subset = subset.map(lambda x: {\"sequences\": create_training_pairs(x[\"tokens\"], seq_len)})\n"
   ]
  },
  {
   "cell_type": "code",
   "execution_count": null,
   "metadata": {},
   "outputs": [],
   "source": [
    "# INSPECTING SUBSET with new columns:\n",
    "def print_subset():\n",
    "    print(subset.shape)\n",
    "    for name in subset.column_names:\n",
    "        print(f\"{name}: {subset[name]}\")\n",
    "        print(f\"  {len(subset[name])}\")\n",
    "    print()\n",
    "\n",
    "\n",
    "def print_subset_new_columns():\n",
    "    for name in subset.column_names:\n",
    "        if name in original_columns:\n",
    "            continue\n",
    "        print(f\"{name}: {subset[name]}\")\n",
    "        print(f\"  {len(subset[name])}\")\n",
    "\n",
    "    print()\n",
    "\n",
    "\n",
    "print_subset()\n",
    "\n",
    "print()\n",
    "print(\"# SEQUENCES:\")\n",
    "print()\n",
    "for i in range(3):\n",
    "    # each record (in original dataset) now has a list of sequences (so, sequences is not a scalar value like content)\n",
    "    print(\"## sequence \" + str(i))\n",
    "    print(subset[\"sequences\"][0][i])\n",
    "    print(tokenizer.decode(subset[\"sequences\"][0][i]))\n",
    "    print()"
   ]
  },
  {
   "cell_type": "code",
   "execution_count": null,
   "metadata": {},
   "outputs": [],
   "source": [
    "# Separate input and target\n",
    "def split_input_target(sequence):\n",
    "    return sequence[:-1], sequence[1:]\n",
    "\n",
    "\n",
    "def mapper(x):\n",
    "    split = split_input_target(x[\"sequences\"])\n",
    "    return {\"x_input\": split[0], \"y_target\": split[1]}\n",
    "\n",
    "subset = subset.map(mapper)\n"
   ]
  },
  {
   "cell_type": "code",
   "execution_count": null,
   "metadata": {},
   "outputs": [],
   "source": [
    "print_subset_new_columns()"
   ]
  },
  {
   "cell_type": "code",
   "execution_count": 8,
   "metadata": {},
   "outputs": [],
   "source": [
    "import torch\n",
    "import torch.nn as nn\n",
    "\n",
    "\n",
    "class CodeCompletionTransformer(nn.Module):\n",
    "\n",
    "    def __init__(self, vocab_size, d_model, nhead, num_layers, seq_len):\n",
    "        super().__init__()\n",
    "        self.embedding = nn.Embedding(vocab_size, d_model)\n",
    "        self.positional_encoding = nn.Parameter(torch.zeros(1, seq_len, d_model))\n",
    "        self.transformer = nn.Transformer(d_model, nhead, num_layers, batch_first=True)\n",
    "        self.fc = nn.Linear(d_model, vocab_size)\n",
    "\n",
    "    def forward(self, x):\n",
    "        x = self.embedding(x) + self.positional_encoding\n",
    "        x = self.transformer(x, x)  # Encoder-only transformer\n",
    "        return self.fc(x)\n",
    "\n",
    "\n",
    "# Initialize\n",
    "vocab_size = 8000\n",
    "model = CodeCompletionTransformer(vocab_size=vocab_size, d_model=128, nhead=4, num_layers=2, seq_len=seq_len)\n"
   ]
  },
  {
   "cell_type": "code",
   "execution_count": null,
   "metadata": {},
   "outputs": [],
   "source": []
  }
 ],
 "metadata": {
  "kernelspec": {
   "display_name": ".venv",
   "language": "python",
   "name": "python3"
  },
  "language_info": {
   "codemirror_mode": {
    "name": "ipython",
    "version": 3
   },
   "file_extension": ".py",
   "mimetype": "text/x-python",
   "name": "python",
   "nbconvert_exporter": "python",
   "pygments_lexer": "ipython3",
   "version": "3.12.8"
  }
 },
 "nbformat": 4,
 "nbformat_minor": 2
}
