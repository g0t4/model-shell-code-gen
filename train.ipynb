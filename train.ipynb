{
 "cells": [
  {
   "cell_type": "code",
   "execution_count": null,
   "metadata": {},
   "outputs": [],
   "source": [
    "import os\n",
    "from datasets import load_dataset\n",
    "\n",
    "if not os.environ.get(\"HF_TOKEN\"):\n",
    "    # FYI export HF_TOKEN=$(pbpaste)\n",
    "    raise ValueError(\"You need to set HF_TOKEN environment variable. Get one from huggingface.co\")\n",
    "\n",
    "# Load the shell/bash subset\n",
    "full_dataset = load_dataset( \"bigcode/the-stack\", split=\"train\", data_dir=\"data/shell\")  # , lang=[\"bash\"])\n",
    "# data_dir data/shell has 11 files, not bad size (about 4GB IIEC)\n",
    "\n",
    "# Save locally (optional)\n",
    "# full_dataset.to_csv(\"shell_scripts.csv\")\n",
    "# print(full_dataset.column_names)\n",
    "\n",
    "subset = full_dataset.select(range(1))\n",
    "print(\"shape\", subset.shape)\n",
    "# print(subset[\"content\"][0])  # Example script"
   ]
  },
  {
   "cell_type": "code",
   "execution_count": 2,
   "metadata": {},
   "outputs": [],
   "source": [
    "# build corpus\n",
    "if not os.path.exists(\"tmp\"):\n",
    "    os.makedirs(\"tmp\")\n",
    "\n",
    "corpus_file = \"tmp/shell_scripts_corpus.sh\"\n",
    "if not os.path.exists(corpus_file):\n",
    "    with open(corpus_file, \"w\") as f:\n",
    "        for example in subset[\"content\"]:  # Adjust \"content\" to match your dataset key\n",
    "            f.write(example + \"\\n\")"
   ]
  },
  {
   "cell_type": "code",
   "execution_count": null,
   "metadata": {},
   "outputs": [],
   "source": [
    "from tokenizers import ByteLevelBPETokenizer\n",
    "\n",
    "tokenizer_path = \"tmp/trained-tokenizer\"\n",
    "if not os.path.exists(tokenizer_path):\n",
    "    os.makedirs(tokenizer_path)\n",
    "\n",
    "# Train the tokenizer\n",
    "if not os.path.exists(tokenizer_path + \"/vocab.json\"):\n",
    "    tokenizer = ByteLevelBPETokenizer()\n",
    "    tokenizer.train(\n",
    "        files=[corpus_file], vocab_size=8000, min_frequency=2)  # PRN adjust vocab_size/min_frequency?\n",
    "    tokenizer.save_model(tokenizer_path)\n",
    "\n",
    "# load the tokenizer\n",
    "tokenizer = ByteLevelBPETokenizer(tokenizer_path + \"/vocab.json\", tokenizer_path + \"/merges.txt\")\n",
    "\n",
    "# tokenize\n",
    "subset_tokenizd = subset.map(lambda x: {\"tokens\": tokenizer.encode(x[\"content\"]).ids})\n",
    "print(subset_tokenizd[\"tokens\"][0])  # Example tokenized output\n",
    "print()\n",
    "#\n",
    "# # VIEW SOME TOKENS:\n",
    "# # show each token for first 10:\n",
    "# for i in range(100):\n",
    "#     print(subset_tokenizd[\"tokens\"][0][i], tokenizer.decode([subset_tokenizd[\"tokens\"][0][i]]))\n"
   ]
  },
  {
   "cell_type": "code",
   "execution_count": null,
   "metadata": {},
   "outputs": [],
   "source": [
    "def create_training_pairs(tokens, seq_len):\n",
    "    # Split into sequences of length seq_len + 1\n",
    "    sequences = [tokens[i:i + seq_len + 1] for i in range(len(tokens) - seq_len)]\n",
    "    return sequences\n",
    "\n",
    "\n",
    "seq_len = 50\n",
    "pairs = subset_tokenizd.map(lambda x: {\"sequences\": create_training_pairs(x[\"tokens\"], seq_len)})\n",
    "\n",
    "# for i in pairs[\"sequences\"][0]:\n",
    "#     print(tokenizer.decode(i))\n",
    "for i in range(3):\n",
    "    print(tokenizer.decode(pairs[\"sequences\"][0][i]))\n"
   ]
  },
  {
   "cell_type": "code",
   "execution_count": null,
   "metadata": {},
   "outputs": [],
   "source": []
  }
 ],
 "metadata": {
  "kernelspec": {
   "display_name": ".venv",
   "language": "python",
   "name": "python3"
  },
  "language_info": {
   "codemirror_mode": {
    "name": "ipython",
    "version": 3
   },
   "file_extension": ".py",
   "mimetype": "text/x-python",
   "name": "python",
   "nbconvert_exporter": "python",
   "pygments_lexer": "ipython3",
   "version": "3.13.0"
  }
 },
 "nbformat": 4,
 "nbformat_minor": 2
}
